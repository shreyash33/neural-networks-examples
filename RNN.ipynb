{
  "nbformat": 4,
  "nbformat_minor": 0,
  "metadata": {
    "colab": {
      "name": "RNN.ipynb",
      "provenance": [],
      "authorship_tag": "ABX9TyNJLsNqRsikUj9LYP3VRgVV",
      "include_colab_link": true
    },
    "kernelspec": {
      "name": "python3",
      "display_name": "Python 3"
    }
  },
  "cells": [
    {
      "cell_type": "markdown",
      "metadata": {
        "id": "view-in-github",
        "colab_type": "text"
      },
      "source": [
        "<a href=\"https://colab.research.google.com/github/shreyash33/python/blob/master/RNN.ipynb\" target=\"_parent\"><img src=\"https://colab.research.google.com/assets/colab-badge.svg\" alt=\"Open In Colab\"/></a>"
      ]
    },
    {
      "cell_type": "code",
      "metadata": {
        "id": "DmpwrSqOjo7X",
        "colab_type": "code",
        "colab": {
          "base_uri": "https://localhost:8080/",
          "height": 185
        },
        "outputId": "ca41785f-e9b8-4d75-a012-85d4bfaa2b8a"
      },
      "source": [
        "import tensorflow as tf\n",
        "from tensorflow.keras.datasets import imdb\n",
        "\n",
        "#Data prprocessing\n",
        "number_of_words = 20000\n",
        "max_len = 100\n",
        "\n",
        "#Load data\n",
        "(X_train, y_train), (X_test, y_test) = imdb.load_data(num_words=number_of_words)\n",
        "\n",
        "#padding\n",
        "X_train = tf.keras.preprocessing.sequence.pad_sequences(X_train, maxlen=max_len)\n",
        "X_test = tf.keras.preprocessing.sequence.pad_sequences(X_test, maxlen=max_len)\n",
        "\n",
        "#Build model\n",
        "model = tf.keras.Sequential()\n",
        "model.add(tf.keras.layers.Embedding(input_dim=number_of_words, output_dim=128, input_shape=(X_train.shape[1],)))\n",
        "model.add(tf.keras.layers.LSTM(units=128, activation='tanh'))\n",
        "model.add(tf.keras.layers.Dense(units=1, activation='sigmoid'))\n",
        "\n",
        "#Compile model\n",
        "model.compile(optimizer='rmsprop', loss='binary_crossentropy', metrics=['accuracy'])\n",
        "\n",
        "#train model\n",
        "model.fit(X_train, y_train, epochs=3, batch_size=128)\n",
        "\n",
        "#Evaluate model\n",
        "test_loss, test_acurracy = model.evaluate(X_test, y_test)\n",
        "print(\"Test accuracy: {}\".format(test_acurracy))"
      ],
      "execution_count": 1,
      "outputs": [
        {
          "output_type": "stream",
          "text": [
            "Downloading data from https://storage.googleapis.com/tensorflow/tf-keras-datasets/imdb.npz\n",
            "17465344/17464789 [==============================] - 0s 0us/step\n",
            "Epoch 1/3\n",
            "196/196 [==============================] - 72s 369ms/step - loss: 0.4644 - accuracy: 0.7842\n",
            "Epoch 2/3\n",
            "196/196 [==============================] - 73s 371ms/step - loss: 0.2898 - accuracy: 0.8837\n",
            "Epoch 3/3\n",
            "196/196 [==============================] - 72s 369ms/step - loss: 0.2322 - accuracy: 0.9090\n",
            "782/782 [==============================] - 25s 33ms/step - loss: 0.4237 - accuracy: 0.8406\n",
            "Test accuracy: 0.8405600190162659\n"
          ],
          "name": "stdout"
        }
      ]
    }
  ]
}